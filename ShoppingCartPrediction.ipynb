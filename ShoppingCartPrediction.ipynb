{
  "cells": [
    {
      "attachments": {},
      "cell_type": "markdown",
      "metadata": {
        "id": "GWCj6mvQAnL9"
      },
      "source": [
        "# Aprori"
      ]
    },
    {
      "attachments": {},
      "cell_type": "markdown",
      "metadata": {},
      "source": [
        "%pip install apyori` is a command used in Jupyter Notebook to install the ` apyori ` package. The ` apyori ` package is a Python library for performing association rule mining."
      ]
    },
    {
      "cell_type": "code",
      "execution_count": 16,
      "metadata": {
        "colab": {
          "base_uri": "https://localhost:8080/"
        },
        "id": "idmk6TwPBL_t",
        "outputId": "2bf38e0f-457e-440f-a73c-2f93bdf02288"
      },
      "outputs": [
        {
          "name": "stdout",
          "output_type": "stream",
          "text": [
            "Defaulting to user installation because normal site-packages is not writeable\n",
            "Requirement already satisfied: apyori in c:\\users\\vedan\\appdata\\roaming\\python\\python39\\site-packages (1.1.2)\n",
            "Note: you may need to restart the kernel to use updated packages.\n"
          ]
        }
      ],
      "source": [
        "%pip install apyori"
      ]
    },
    {
      "cell_type": "markdown",
      "metadata": {
        "id": "4PSpLCEe7-GT"
      },
      "source": [
        "# Data Preprocessing"
      ]
    },
    {
      "attachments": {},
      "cell_type": "markdown",
      "metadata": {},
      "source": [
        "These lines of code are importing three Python libraries: NumPy, Matplotlib, and Pandas."
      ]
    },
    {
      "cell_type": "code",
      "execution_count": 17,
      "metadata": {
        "id": "u95Drz4T8DuD"
      },
      "outputs": [],
      "source": [
        "import numpy as ns\n",
        "import matplotlib.pyplot as plt\n",
        "import pandas as pd"
      ]
    },
    {
      "cell_type": "markdown",
      "metadata": {
        "id": "j0qSibDy9JNC"
      },
      "source": [
        " # Importing Dataset"
      ]
    },
    {
      "attachments": {},
      "cell_type": "markdown",
      "metadata": {},
      "source": [
        "This code is reading a CSV file named 'digbasket.csv' and storing it in a pandas DataFrame called `dataset`. The `header=None` argument specifies that the CSV file does not have a header row."
      ]
    },
    {
      "cell_type": "code",
      "execution_count": 18,
      "metadata": {
        "id": "hn0PkHHY-fxe"
      },
      "outputs": [],
      "source": [
        "dataset = pd.read_csv('digbasket.csv', header = None)\n",
        "transactions=[]\n",
        "\n",
        "for i in range(0,7219):\n",
        "  transactions.append([str(dataset.values[i, j]) for j in range(0, 20)])"
      ]
    },
    {
      "cell_type": "code",
      "execution_count": 19,
      "metadata": {
        "colab": {
          "base_uri": "https://localhost:8080/"
        },
        "id": "wIUmcR2mFZyy",
        "outputId": "5462a1d4-f9ea-4601-d25c-80aadedb425c"
      },
      "outputs": [
        {
          "name": "stdout",
          "output_type": "stream",
          "text": [
            "                 0                    1         2             3   \\\n",
            "0           chutney                  NaN       NaN           NaN   \n",
            "1              knor  ginger garlic paste  MTR Idli           NaN   \n",
            "2            turkey          spirit fish  tomatoes     spaghetti   \n",
            "3              eggs                  NaN       NaN           NaN   \n",
            "4            kinley                  NaN       NaN           NaN   \n",
            "...             ...                  ...       ...           ...   \n",
            "7214  mineral water            green tea       NaN           NaN   \n",
            "7215      green tea                  NaN       NaN           NaN   \n",
            "7216  patanjali tea              chicken      eggs  french fries   \n",
            "7217  mineral water                 milk      cake      brownies   \n",
            "7218       neckrest         french fries       NaN           NaN   \n",
            "\n",
            "                 4              5       6     7        8   \\\n",
            "0               NaN            NaN     NaN   NaN      NaN   \n",
            "1               NaN            NaN     NaN   NaN      NaN   \n",
            "2     mineral water  patanjali tea  salmon  eggs  chicken   \n",
            "3               NaN            NaN     NaN   NaN      NaN   \n",
            "4               NaN            NaN     NaN   NaN      NaN   \n",
            "...             ...            ...     ...   ...      ...   \n",
            "7214            NaN            NaN     NaN   NaN      NaN   \n",
            "7215            NaN            NaN     NaN   NaN      NaN   \n",
            "7216       Roohafza            NaN     NaN   NaN      NaN   \n",
            "7217            NaN            NaN     NaN   NaN      NaN   \n",
            "7218            NaN            NaN     NaN   NaN      NaN   \n",
            "\n",
            "                           9    10   11   12   13   14   15   16   17   18  \\\n",
            "0                         NaN  NaN  NaN  NaN  NaN  NaN  NaN  NaN  NaN  NaN   \n",
            "1                         NaN  NaN  NaN  NaN  NaN  NaN  NaN  NaN  NaN  NaN   \n",
            "2     cadbury white chocolate  NaN  NaN  NaN  NaN  NaN  NaN  NaN  NaN  NaN   \n",
            "3                         NaN  NaN  NaN  NaN  NaN  NaN  NaN  NaN  NaN  NaN   \n",
            "4                         NaN  NaN  NaN  NaN  NaN  NaN  NaN  NaN  NaN  NaN   \n",
            "...                       ...  ...  ...  ...  ...  ...  ...  ...  ...  ...   \n",
            "7214                      NaN  NaN  NaN  NaN  NaN  NaN  NaN  NaN  NaN  NaN   \n",
            "7215                      NaN  NaN  NaN  NaN  NaN  NaN  NaN  NaN  NaN  NaN   \n",
            "7216                      NaN  NaN  NaN  NaN  NaN  NaN  NaN  NaN  NaN  NaN   \n",
            "7217                      NaN  NaN  NaN  NaN  NaN  NaN  NaN  NaN  NaN  NaN   \n",
            "7218                      NaN  NaN  NaN  NaN  NaN  NaN  NaN  NaN  NaN  NaN   \n",
            "\n",
            "       19  \n",
            "0     NaN  \n",
            "1     NaN  \n",
            "2     NaN  \n",
            "3     NaN  \n",
            "4     NaN  \n",
            "...   ...  \n",
            "7214  NaN  \n",
            "7215  NaN  \n",
            "7216  NaN  \n",
            "7217  NaN  \n",
            "7218  NaN  \n",
            "\n",
            "[7219 rows x 20 columns]\n"
          ]
        }
      ],
      "source": [
        "print(dataset)"
      ]
    },
    {
      "cell_type": "markdown",
      "metadata": {
        "id": "wjwkzcWSFkdy"
      },
      "source": [
        "# Apriori Training on Dataset"
      ]
    },
    {
      "attachments": {},
      "cell_type": "markdown",
      "metadata": {},
      "source": [
        "This code is using the Apriori algorithm from the apyori library to generate association rules from a set of transactions. The `transactions` parameter specifies the input data, `min_support` sets the minimum support threshold for an itemset to be considered frequent, `min_confidence` sets the minimum confidence threshold for a rule to be considered strong, `min_lift` sets the minimum lift threshold for a rule to be considered interesting, and `min_len` sets the minimum length of the itemsets to be considered in the analysis. The output of this code is stored in the `basket_intel` variable, which contains the generated association rules."
      ]
    },
    {
      "cell_type": "code",
      "execution_count": 20,
      "metadata": {
        "id": "j_6y6EkFFtqs"
      },
      "outputs": [],
      "source": [
        "from apyori import apriori\n",
        "basket_intel= apriori(transactions= transactions, min_support=0.002, min_confidence=0.2, min_lift=3, min_len=2)"
      ]
    },
    {
      "attachments": {},
      "cell_type": "markdown",
      "metadata": {
        "id": "sf6FKju-J8sU"
      },
      "source": [
        "# Visualizing"
      ]
    },
    {
      "cell_type": "code",
      "execution_count": null,
      "metadata": {
        "colab": {
          "base_uri": "https://localhost:8080/"
        },
        "id": "Pq7_YmsiKBs8",
        "outputId": "e9b63516-b5d7-46b2-92ba-18c7565dc5a4"
      },
      "outputs": [],
      "source": [
        "results= list(basket_intel)"
      ]
    },
    {
      "attachments": {},
      "cell_type": "markdown",
      "metadata": {},
      "source": [
        "The code defines a function called `inspect` that takes in a list of results and extracts information about the products, support, confidence, and lift from each result. It then returns a list of tuples containing this information for each result."
      ]
    },
    {
      "cell_type": "code",
      "execution_count": 22,
      "metadata": {
        "id": "78UimMbYLoYS"
      },
      "outputs": [],
      "source": [
        "def inspect(results):\n",
        "  product1     =[tuple(result[2][0][0])[0]for result in results]\n",
        "  product2     =[tuple(result[2][0][1])[0]for result in results]\n",
        "  supports   =[result[1] for result in results]\n",
        "  confidence =[result[2][0][2] for result in results]\n",
        "  lifts      =[result[2][0][3] for result in results]\n",
        "  return list(zip(product1, product2, supports, confidence, lifts))\n",
        "DataFrame_intel= pd.DataFrame(inspect(results), columns=['Product1','Product2','Support','Confidence','lift'])\n",
        " "
      ]
    },
    {
      "cell_type": "code",
      "execution_count": 23,
      "metadata": {
        "colab": {
          "base_uri": "https://localhost:8080/",
          "height": 423
        },
        "id": "HU0zlo_gO9xo",
        "outputId": "6e6b8f87-55f1-420b-8aeb-baf4d6fc58a4"
      },
      "outputs": [
        {
          "data": {
            "text/html": [
              "<div>\n",
              "<style scoped>\n",
              "    .dataframe tbody tr th:only-of-type {\n",
              "        vertical-align: middle;\n",
              "    }\n",
              "\n",
              "    .dataframe tbody tr th {\n",
              "        vertical-align: top;\n",
              "    }\n",
              "\n",
              "    .dataframe thead th {\n",
              "        text-align: right;\n",
              "    }\n",
              "</style>\n",
              "<table border=\"1\" class=\"dataframe\">\n",
              "  <thead>\n",
              "    <tr style=\"text-align: right;\">\n",
              "      <th></th>\n",
              "      <th>Product1</th>\n",
              "      <th>Product2</th>\n",
              "      <th>Support</th>\n",
              "      <th>Confidence</th>\n",
              "      <th>lift</th>\n",
              "    </tr>\n",
              "  </thead>\n",
              "  <tbody>\n",
              "    <tr>\n",
              "      <th>0</th>\n",
              "      <td>5 star</td>\n",
              "      <td>pancakes</td>\n",
              "      <td>0.002216</td>\n",
              "      <td>0.326531</td>\n",
              "      <td>3.446235</td>\n",
              "    </tr>\n",
              "    <tr>\n",
              "      <th>1</th>\n",
              "      <td>MTR Idli</td>\n",
              "      <td>parle g</td>\n",
              "      <td>0.002078</td>\n",
              "      <td>0.263158</td>\n",
              "      <td>3.247413</td>\n",
              "    </tr>\n",
              "    <tr>\n",
              "      <th>2</th>\n",
              "      <td>almonds</td>\n",
              "      <td>burgers</td>\n",
              "      <td>0.005402</td>\n",
              "      <td>0.265306</td>\n",
              "      <td>3.059497</td>\n",
              "    </tr>\n",
              "    <tr>\n",
              "      <th>3</th>\n",
              "      <td>barbecue sauce</td>\n",
              "      <td>turkey</td>\n",
              "      <td>0.002493</td>\n",
              "      <td>0.225000</td>\n",
              "      <td>3.585596</td>\n",
              "    </tr>\n",
              "    <tr>\n",
              "      <th>4</th>\n",
              "      <td>buns</td>\n",
              "      <td>paneer</td>\n",
              "      <td>0.016069</td>\n",
              "      <td>0.324022</td>\n",
              "      <td>3.285277</td>\n",
              "    </tr>\n",
              "    <tr>\n",
              "      <th>...</th>\n",
              "      <td>...</td>\n",
              "      <td>...</td>\n",
              "      <td>...</td>\n",
              "      <td>...</td>\n",
              "      <td>...</td>\n",
              "    </tr>\n",
              "    <tr>\n",
              "      <th>487</th>\n",
              "      <td>spaghetti</td>\n",
              "      <td>nan</td>\n",
              "      <td>0.003048</td>\n",
              "      <td>0.333333</td>\n",
              "      <td>3.492501</td>\n",
              "    </tr>\n",
              "    <tr>\n",
              "      <th>488</th>\n",
              "      <td>paneer</td>\n",
              "      <td>nan</td>\n",
              "      <td>0.002216</td>\n",
              "      <td>0.355556</td>\n",
              "      <td>3.725335</td>\n",
              "    </tr>\n",
              "    <tr>\n",
              "      <th>489</th>\n",
              "      <td>tomatoes</td>\n",
              "      <td>spaghetti</td>\n",
              "      <td>0.002216</td>\n",
              "      <td>0.307692</td>\n",
              "      <td>10.888386</td>\n",
              "    </tr>\n",
              "    <tr>\n",
              "      <th>490</th>\n",
              "      <td>paneer</td>\n",
              "      <td>mineral water</td>\n",
              "      <td>0.002078</td>\n",
              "      <td>0.326087</td>\n",
              "      <td>9.019240</td>\n",
              "    </tr>\n",
              "    <tr>\n",
              "      <th>491</th>\n",
              "      <td>chocolate</td>\n",
              "      <td>spaghetti</td>\n",
              "      <td>0.002078</td>\n",
              "      <td>0.258621</td>\n",
              "      <td>4.262518</td>\n",
              "    </tr>\n",
              "  </tbody>\n",
              "</table>\n",
              "<p>492 rows × 5 columns</p>\n",
              "</div>"
            ],
            "text/plain": [
              "           Product1       Product2   Support  Confidence       lift\n",
              "0            5 star       pancakes  0.002216    0.326531   3.446235\n",
              "1          MTR Idli        parle g  0.002078    0.263158   3.247413\n",
              "2           almonds        burgers  0.005402    0.265306   3.059497\n",
              "3    barbecue sauce         turkey  0.002493    0.225000   3.585596\n",
              "4              buns         paneer  0.016069    0.324022   3.285277\n",
              "..              ...            ...       ...         ...        ...\n",
              "487       spaghetti            nan  0.003048    0.333333   3.492501\n",
              "488          paneer            nan  0.002216    0.355556   3.725335\n",
              "489        tomatoes      spaghetti  0.002216    0.307692  10.888386\n",
              "490          paneer  mineral water  0.002078    0.326087   9.019240\n",
              "491       chocolate      spaghetti  0.002078    0.258621   4.262518\n",
              "\n",
              "[492 rows x 5 columns]"
            ]
          },
          "execution_count": 23,
          "metadata": {},
          "output_type": "execute_result"
        }
      ],
      "source": [
        "DataFrame_intel"
      ]
    },
    {
      "attachments": {},
      "cell_type": "markdown",
      "metadata": {},
      "source": [
        "`DataFrame_intel.nlargest(n=10, columns='lift')` is a method call on a pandas DataFrame object named `DataFrame_intel`. It returns the top `n` rows with the largest values in the `lift` column. In this case, it returns the top 10 rows with the largest values in the `lift` column."
      ]
    },
    {
      "cell_type": "code",
      "execution_count": 24,
      "metadata": {
        "colab": {
          "base_uri": "https://localhost:8080/",
          "height": 363
        },
        "id": "8dc-bkbnQHHU",
        "outputId": "4a37b3f8-4acb-4f44-b0c7-731ea7e7ff43"
      },
      "outputs": [
        {
          "data": {
            "text/html": [
              "<div>\n",
              "<style scoped>\n",
              "    .dataframe tbody tr th:only-of-type {\n",
              "        vertical-align: middle;\n",
              "    }\n",
              "\n",
              "    .dataframe tbody tr th {\n",
              "        vertical-align: top;\n",
              "    }\n",
              "\n",
              "    .dataframe thead th {\n",
              "        text-align: right;\n",
              "    }\n",
              "</style>\n",
              "<table border=\"1\" class=\"dataframe\">\n",
              "  <thead>\n",
              "    <tr style=\"text-align: right;\">\n",
              "      <th></th>\n",
              "      <th>Product1</th>\n",
              "      <th>Product2</th>\n",
              "      <th>Support</th>\n",
              "      <th>Confidence</th>\n",
              "      <th>lift</th>\n",
              "    </tr>\n",
              "  </thead>\n",
              "  <tbody>\n",
              "    <tr>\n",
              "      <th>145</th>\n",
              "      <td>pasta</td>\n",
              "      <td>pepper spray</td>\n",
              "      <td>0.002493</td>\n",
              "      <td>0.461538</td>\n",
              "      <td>23.970116</td>\n",
              "    </tr>\n",
              "    <tr>\n",
              "      <th>373</th>\n",
              "      <td>pasta</td>\n",
              "      <td>nan</td>\n",
              "      <td>0.002493</td>\n",
              "      <td>0.461538</td>\n",
              "      <td>23.970116</td>\n",
              "    </tr>\n",
              "    <tr>\n",
              "      <th>391</th>\n",
              "      <td>tomatoes</td>\n",
              "      <td>spaghetti</td>\n",
              "      <td>0.002216</td>\n",
              "      <td>0.307692</td>\n",
              "      <td>10.888386</td>\n",
              "    </tr>\n",
              "    <tr>\n",
              "      <th>489</th>\n",
              "      <td>tomatoes</td>\n",
              "      <td>spaghetti</td>\n",
              "      <td>0.002216</td>\n",
              "      <td>0.307692</td>\n",
              "      <td>10.888386</td>\n",
              "    </tr>\n",
              "    <tr>\n",
              "      <th>420</th>\n",
              "      <td>paneer</td>\n",
              "      <td>mineral water</td>\n",
              "      <td>0.002078</td>\n",
              "      <td>0.326087</td>\n",
              "      <td>9.019240</td>\n",
              "    </tr>\n",
              "    <tr>\n",
              "      <th>490</th>\n",
              "      <td>paneer</td>\n",
              "      <td>mineral water</td>\n",
              "      <td>0.002078</td>\n",
              "      <td>0.326087</td>\n",
              "      <td>9.019240</td>\n",
              "    </tr>\n",
              "    <tr>\n",
              "      <th>328</th>\n",
              "      <td>paneer</td>\n",
              "      <td>spaghetti</td>\n",
              "      <td>0.002493</td>\n",
              "      <td>0.219512</td>\n",
              "      <td>7.767934</td>\n",
              "    </tr>\n",
              "    <tr>\n",
              "      <th>461</th>\n",
              "      <td>paneer</td>\n",
              "      <td>spaghetti</td>\n",
              "      <td>0.002493</td>\n",
              "      <td>0.219512</td>\n",
              "      <td>7.767934</td>\n",
              "    </tr>\n",
              "    <tr>\n",
              "      <th>220</th>\n",
              "      <td>chicken</td>\n",
              "      <td>spaghetti</td>\n",
              "      <td>0.002078</td>\n",
              "      <td>0.277778</td>\n",
              "      <td>7.653732</td>\n",
              "    </tr>\n",
              "    <tr>\n",
              "      <th>407</th>\n",
              "      <td>chicken</td>\n",
              "      <td>spaghetti</td>\n",
              "      <td>0.002078</td>\n",
              "      <td>0.277778</td>\n",
              "      <td>7.653732</td>\n",
              "    </tr>\n",
              "  </tbody>\n",
              "</table>\n",
              "</div>"
            ],
            "text/plain": [
              "     Product1       Product2   Support  Confidence       lift\n",
              "145     pasta   pepper spray  0.002493    0.461538  23.970116\n",
              "373     pasta            nan  0.002493    0.461538  23.970116\n",
              "391  tomatoes      spaghetti  0.002216    0.307692  10.888386\n",
              "489  tomatoes      spaghetti  0.002216    0.307692  10.888386\n",
              "420    paneer  mineral water  0.002078    0.326087   9.019240\n",
              "490    paneer  mineral water  0.002078    0.326087   9.019240\n",
              "328    paneer      spaghetti  0.002493    0.219512   7.767934\n",
              "461    paneer      spaghetti  0.002493    0.219512   7.767934\n",
              "220   chicken      spaghetti  0.002078    0.277778   7.653732\n",
              "407   chicken      spaghetti  0.002078    0.277778   7.653732"
            ]
          },
          "execution_count": 24,
          "metadata": {},
          "output_type": "execute_result"
        }
      ],
      "source": [
        "DataFrame_intel.nlargest(n=10, columns='lift')"
      ]
    }
  ],
  "metadata": {
    "colab": {
      "provenance": []
    },
    "kernelspec": {
      "display_name": "base",
      "language": "python",
      "name": "python3"
    },
    "language_info": {
      "codemirror_mode": {
        "name": "ipython",
        "version": 3
      },
      "file_extension": ".py",
      "mimetype": "text/x-python",
      "name": "python",
      "nbconvert_exporter": "python",
      "pygments_lexer": "ipython3",
      "version": "3.9.13"
    },
    "vscode": {
      "interpreter": {
        "hash": "ad2bdc8ecc057115af97d19610ffacc2b4e99fae6737bb82f5d7fb13d2f2c186"
      }
    }
  },
  "nbformat": 4,
  "nbformat_minor": 0
}
